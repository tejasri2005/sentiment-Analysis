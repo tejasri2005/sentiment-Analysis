{
 "cells": [
  {
   "cell_type": "code",
   "execution_count": 3,
   "metadata": {
    "colab": {
     "base_uri": "https://localhost:8080/",
     "height": 242,
     "referenced_widgets": [
      "7c4b7d5db2924325aa212ca93ac8adb6",
      "1c21fdbd63fe4ca58c47708beeaf768f",
      "069c6d2d5c53430c842bbb5a7551189f",
      "9e5adabab10941babe1bb8588e10a744",
      "8bfa6f452cf04d2e977ffcd949f0aa0c",
      "c7a8532fd3df4da48043d187e92888a4",
      "9de1aea405d9477d8d6ee742a74b121c",
      "137fedbbdbdf4161b7435e3e01507fd8"
     ]
    },
    "id": "8FQhW6yRxDLP",
    "outputId": "bf023f45-c3b9-4944-d384-2431c1680b91"
   },
   "outputs": [
    {
     "name": "stderr",
     "output_type": "stream",
     "text": [
      "[nltk_data] Downloading package punkt to /root/nltk_data...\n",
      "[nltk_data]   Package punkt is already up-to-date!\n"
     ]
    },
    {
     "data": {
      "application/vnd.jupyter.widget-view+json": {
       "model_id": "7c4b7d5db2924325aa212ca93ac8adb6",
       "version_major": 2,
       "version_minor": 0
      },
      "text/plain": [
       "Textarea(value='', description='Feedback:', layout=Layout(height='100px', width='100%'), placeholder='Enter cu…"
      ]
     },
     "metadata": {},
     "output_type": "display_data"
    },
    {
     "data": {
      "application/vnd.jupyter.widget-view+json": {
       "model_id": "9e5adabab10941babe1bb8588e10a744",
       "version_major": 2,
       "version_minor": 0
      },
      "text/plain": [
       "Button(button_style='primary', description='Analyze Sentiment', style=ButtonStyle())"
      ]
     },
     "metadata": {},
     "output_type": "display_data"
    },
    {
     "data": {
      "application/vnd.jupyter.widget-view+json": {
       "model_id": "9de1aea405d9477d8d6ee742a74b121c",
       "version_major": 2,
       "version_minor": 0
      },
      "text/plain": [
       "Output()"
      ]
     },
     "metadata": {},
     "output_type": "display_data"
    }
   ],
   "source": [
    "# Install required library\n",
    "!pip install -q textblob\n",
    "import nltk\n",
    "nltk.download('punkt')\n",
    "\n",
    "# Import libraries\n",
    "from textblob import TextBlob\n",
    "import ipywidgets as widgets\n",
    "from IPython.display import display, clear_output\n",
    "\n",
    "# Create input box and button\n",
    "feedback_input = widgets.Textarea(\n",
    "    value='',\n",
    "    placeholder='Enter customer feedback here...',\n",
    "    description='Feedback:',\n",
    "    layout=widgets.Layout(width='100%', height='100px'),\n",
    "    style={'description_width': 'initial'}\n",
    ")\n",
    "\n",
    "analyze_button = widgets.Button(\n",
    "    description=\"Analyze Sentiment\",\n",
    "    button_style='primary'\n",
    ")\n",
    "\n",
    "output = widgets.Output()\n",
    "\n",
    "# Define button click behavior\n",
    "def analyze_sentiment(b):\n",
    "    with output:\n",
    "        clear_output()\n",
    "        feedback_text = feedback_input.value.strip()\n",
    "        if feedback_text == \"\":\n",
    "            print(\"⚠️ Please enter some feedback.\")\n",
    "            return\n",
    "\n",
    "        blob = TextBlob(feedback_text)\n",
    "        polarity = blob.sentiment.polarity\n",
    "\n",
    "        if polarity > 0:\n",
    "            sentiment = \"Positive 😊\"\n",
    "        elif polarity < 0:\n",
    "            sentiment = \"Negative 😞\"\n",
    "        else:\n",
    "            sentiment = \"Neutral 😐\"\n",
    "\n",
    "        print(\"🎯 Sentiment:\", sentiment)\n",
    "        print(\"📊 Polarity Score:\", polarity)\n",
    "\n",
    "# Connect button to function\n",
    "analyze_button.on_click(analyze_sentiment)\n",
    "\n",
    "# Display UI\n",
    "display(feedback_input, analyze_button, output)\n"
   ]
  }
 ],
 "metadata": {
  "colab": {
   "provenance": []
  },
  "kernelspec": {
   "display_name": "Python 3",
   "name": "python3"
  },
  "language_info": {
   "name": "python"
  }
 },
 "nbformat": 4,
 "nbformat_minor": 0
}
