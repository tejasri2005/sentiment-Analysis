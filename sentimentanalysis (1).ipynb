{
  "nbformat": 4,
  "nbformat_minor": 0,
  "metadata": {
    "colab": {
      "provenance": []
    },
    "kernelspec": {
      "name": "python3",
      "display_name": "Python 3"
    },
    "language_info": {
      "name": "python"
    },
    "widgets": {
      "application/vnd.jupyter.widget-state+json": {
        "c7650c733b614fce9cb7cb01a0b6419d": {
          "model_module": "@jupyter-widgets/controls",
          "model_name": "TextareaModel",
          "model_module_version": "1.5.0",
          "state": {
            "_dom_classes": [],
            "_model_module": "@jupyter-widgets/controls",
            "_model_module_version": "1.5.0",
            "_model_name": "TextareaModel",
            "_view_count": null,
            "_view_module": "@jupyter-widgets/controls",
            "_view_module_version": "1.5.0",
            "_view_name": "TextareaView",
            "continuous_update": true,
            "description": "Feedback:",
            "description_tooltip": null,
            "disabled": false,
            "layout": "IPY_MODEL_8e9b3918b4554ea08416c6df1cfec346",
            "placeholder": "Enter customer feedback here...",
            "rows": null,
            "style": "IPY_MODEL_ad61e91c3ddd4dfabc7a17e756d0f3df",
            "value": "product is amazing"
          }
        },
        "8e9b3918b4554ea08416c6df1cfec346": {
          "model_module": "@jupyter-widgets/base",
          "model_name": "LayoutModel",
          "model_module_version": "1.2.0",
          "state": {
            "_model_module": "@jupyter-widgets/base",
            "_model_module_version": "1.2.0",
            "_model_name": "LayoutModel",
            "_view_count": null,
            "_view_module": "@jupyter-widgets/base",
            "_view_module_version": "1.2.0",
            "_view_name": "LayoutView",
            "align_content": null,
            "align_items": null,
            "align_self": null,
            "border": null,
            "bottom": null,
            "display": null,
            "flex": null,
            "flex_flow": null,
            "grid_area": null,
            "grid_auto_columns": null,
            "grid_auto_flow": null,
            "grid_auto_rows": null,
            "grid_column": null,
            "grid_gap": null,
            "grid_row": null,
            "grid_template_areas": null,
            "grid_template_columns": null,
            "grid_template_rows": null,
            "height": "100px",
            "justify_content": null,
            "justify_items": null,
            "left": null,
            "margin": null,
            "max_height": null,
            "max_width": null,
            "min_height": null,
            "min_width": null,
            "object_fit": null,
            "object_position": null,
            "order": null,
            "overflow": null,
            "overflow_x": null,
            "overflow_y": null,
            "padding": null,
            "right": null,
            "top": null,
            "visibility": null,
            "width": "100%"
          }
        },
        "ad61e91c3ddd4dfabc7a17e756d0f3df": {
          "model_module": "@jupyter-widgets/controls",
          "model_name": "DescriptionStyleModel",
          "model_module_version": "1.5.0",
          "state": {
            "_model_module": "@jupyter-widgets/controls",
            "_model_module_version": "1.5.0",
            "_model_name": "DescriptionStyleModel",
            "_view_count": null,
            "_view_module": "@jupyter-widgets/base",
            "_view_module_version": "1.2.0",
            "_view_name": "StyleView",
            "description_width": "initial"
          }
        },
        "a7362077fd644735a1de4beb301d268b": {
          "model_module": "@jupyter-widgets/controls",
          "model_name": "ButtonModel",
          "model_module_version": "1.5.0",
          "state": {
            "_dom_classes": [],
            "_model_module": "@jupyter-widgets/controls",
            "_model_module_version": "1.5.0",
            "_model_name": "ButtonModel",
            "_view_count": null,
            "_view_module": "@jupyter-widgets/controls",
            "_view_module_version": "1.5.0",
            "_view_name": "ButtonView",
            "button_style": "primary",
            "description": "Analyze Sentiment",
            "disabled": false,
            "icon": "",
            "layout": "IPY_MODEL_3e03508cb9844286b375f8569f67b50e",
            "style": "IPY_MODEL_a197976c786d404c8d1a4df321353b0a",
            "tooltip": ""
          }
        },
        "3e03508cb9844286b375f8569f67b50e": {
          "model_module": "@jupyter-widgets/base",
          "model_name": "LayoutModel",
          "model_module_version": "1.2.0",
          "state": {
            "_model_module": "@jupyter-widgets/base",
            "_model_module_version": "1.2.0",
            "_model_name": "LayoutModel",
            "_view_count": null,
            "_view_module": "@jupyter-widgets/base",
            "_view_module_version": "1.2.0",
            "_view_name": "LayoutView",
            "align_content": null,
            "align_items": null,
            "align_self": null,
            "border": null,
            "bottom": null,
            "display": null,
            "flex": null,
            "flex_flow": null,
            "grid_area": null,
            "grid_auto_columns": null,
            "grid_auto_flow": null,
            "grid_auto_rows": null,
            "grid_column": null,
            "grid_gap": null,
            "grid_row": null,
            "grid_template_areas": null,
            "grid_template_columns": null,
            "grid_template_rows": null,
            "height": null,
            "justify_content": null,
            "justify_items": null,
            "left": null,
            "margin": null,
            "max_height": null,
            "max_width": null,
            "min_height": null,
            "min_width": null,
            "object_fit": null,
            "object_position": null,
            "order": null,
            "overflow": null,
            "overflow_x": null,
            "overflow_y": null,
            "padding": null,
            "right": null,
            "top": null,
            "visibility": null,
            "width": null
          }
        },
        "a197976c786d404c8d1a4df321353b0a": {
          "model_module": "@jupyter-widgets/controls",
          "model_name": "ButtonStyleModel",
          "model_module_version": "1.5.0",
          "state": {
            "_model_module": "@jupyter-widgets/controls",
            "_model_module_version": "1.5.0",
            "_model_name": "ButtonStyleModel",
            "_view_count": null,
            "_view_module": "@jupyter-widgets/base",
            "_view_module_version": "1.2.0",
            "_view_name": "StyleView",
            "button_color": null,
            "font_weight": ""
          }
        },
        "eb745bb593764a44ae13e06d5accb7f5": {
          "model_module": "@jupyter-widgets/output",
          "model_name": "OutputModel",
          "model_module_version": "1.0.0",
          "state": {
            "_dom_classes": [],
            "_model_module": "@jupyter-widgets/output",
            "_model_module_version": "1.0.0",
            "_model_name": "OutputModel",
            "_view_count": null,
            "_view_module": "@jupyter-widgets/output",
            "_view_module_version": "1.0.0",
            "_view_name": "OutputView",
            "layout": "IPY_MODEL_859adf9b4f4d4118b864e493b32dd88d",
            "msg_id": "",
            "outputs": [
              {
                "output_type": "stream",
                "name": "stdout",
                "text": [
                  "🎯 Sentiment: Positive 😊\n",
                  "📊 Polarity Score: 0.6000000000000001\n"
                ]
              }
            ]
          }
        },
        "859adf9b4f4d4118b864e493b32dd88d": {
          "model_module": "@jupyter-widgets/base",
          "model_name": "LayoutModel",
          "model_module_version": "1.2.0",
          "state": {
            "_model_module": "@jupyter-widgets/base",
            "_model_module_version": "1.2.0",
            "_model_name": "LayoutModel",
            "_view_count": null,
            "_view_module": "@jupyter-widgets/base",
            "_view_module_version": "1.2.0",
            "_view_name": "LayoutView",
            "align_content": null,
            "align_items": null,
            "align_self": null,
            "border": null,
            "bottom": null,
            "display": null,
            "flex": null,
            "flex_flow": null,
            "grid_area": null,
            "grid_auto_columns": null,
            "grid_auto_flow": null,
            "grid_auto_rows": null,
            "grid_column": null,
            "grid_gap": null,
            "grid_row": null,
            "grid_template_areas": null,
            "grid_template_columns": null,
            "grid_template_rows": null,
            "height": null,
            "justify_content": null,
            "justify_items": null,
            "left": null,
            "margin": null,
            "max_height": null,
            "max_width": null,
            "min_height": null,
            "min_width": null,
            "object_fit": null,
            "object_position": null,
            "order": null,
            "overflow": null,
            "overflow_x": null,
            "overflow_y": null,
            "padding": null,
            "right": null,
            "top": null,
            "visibility": null,
            "width": null
          }
        }
      }
    }
  },
  "cells": [
    {
      "cell_type": "code",
      "execution_count": 5,
      "metadata": {
        "colab": {
          "base_uri": "https://localhost:8080/",
          "height": 208,
          "referenced_widgets": [
            "c7650c733b614fce9cb7cb01a0b6419d",
            "8e9b3918b4554ea08416c6df1cfec346",
            "ad61e91c3ddd4dfabc7a17e756d0f3df",
            "a7362077fd644735a1de4beb301d268b",
            "3e03508cb9844286b375f8569f67b50e",
            "a197976c786d404c8d1a4df321353b0a",
            "eb745bb593764a44ae13e06d5accb7f5",
            "859adf9b4f4d4118b864e493b32dd88d"
          ]
        },
        "id": "8FQhW6yRxDLP",
        "outputId": "3651e9df-7c71-4fc9-c72c-c3c21859225e"
      },
      "outputs": [
        {
          "output_type": "display_data",
          "data": {
            "text/plain": [
              "Textarea(value='', description='Feedback:', layout=Layout(height='100px', width='100%'), placeholder='Enter cu…"
            ],
            "application/vnd.jupyter.widget-view+json": {
              "version_major": 2,
              "version_minor": 0,
              "model_id": "c7650c733b614fce9cb7cb01a0b6419d"
            }
          },
          "metadata": {}
        },
        {
          "output_type": "display_data",
          "data": {
            "text/plain": [
              "Button(button_style='primary', description='Analyze Sentiment', style=ButtonStyle())"
            ],
            "application/vnd.jupyter.widget-view+json": {
              "version_major": 2,
              "version_minor": 0,
              "model_id": "a7362077fd644735a1de4beb301d268b"
            }
          },
          "metadata": {}
        },
        {
          "output_type": "display_data",
          "data": {
            "text/plain": [
              "Output()"
            ],
            "application/vnd.jupyter.widget-view+json": {
              "version_major": 2,
              "version_minor": 0,
              "model_id": "eb745bb593764a44ae13e06d5accb7f5"
            }
          },
          "metadata": {}
        }
      ],
      "source": [
        "from textblob import TextBlob\n",
        "import ipywidgets as widgets\n",
        "from IPython.display import display, clear_output\n",
        "\n",
        "# Create input box and button\n",
        "feedback_input = widgets.Textarea(\n",
        "    value='',\n",
        "    placeholder='Enter customer feedback here...',\n",
        "    description='Feedback:',\n",
        "    layout=widgets.Layout(width='100%', height='100px'),\n",
        "    style={'description_width': 'initial'}\n",
        ")\n",
        "\n",
        "analyze_button = widgets.Button(\n",
        "    description=\"Analyze Sentiment\",\n",
        "    button_style='primary'\n",
        ")\n",
        "\n",
        "output = widgets.Output()\n",
        "\n",
        "# Define logic\n",
        "def analyze_sentiment(b):\n",
        "    with output:\n",
        "        clear_output()\n",
        "        feedback_text = feedback_input.value.strip()\n",
        "        if feedback_text == \"\":\n",
        "            print(\"⚠️ Please enter some feedback.\")\n",
        "            return\n",
        "\n",
        "        blob = TextBlob(feedback_text)\n",
        "        polarity = blob.sentiment.polarity\n",
        "\n",
        "        if polarity > 0:\n",
        "            sentiment = \"Positive 😊\"\n",
        "        elif polarity < 0:\n",
        "            sentiment = \"Negative 😞\"\n",
        "        else:\n",
        "            sentiment = \"Neutral 😐\"\n",
        "\n",
        "        print(\"🎯 Sentiment:\", sentiment)\n",
        "        print(\"📊 Polarity Score:\", polarity)\n",
        "\n",
        "# Connect and display\n",
        "analyze_button.on_click(analyze_sentiment)\n",
        "display(feedback_input, analyze_button, output)\n"
      ]
    }
  ]
}